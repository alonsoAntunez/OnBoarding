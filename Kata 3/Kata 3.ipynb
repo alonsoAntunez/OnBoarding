{
 "cells": [
  {
   "cell_type": "markdown",
   "metadata": {},
   "source": [
    "Un asteroide se acerca, y viaja a una velocidad de 49 km/s.\n"
   ]
  },
  {
   "cell_type": "code",
   "execution_count": null,
   "metadata": {},
   "outputs": [],
   "source": [
    "asteroidDanger = 49\n",
    "currentAsteroid = input(\"¿Que velocidad tiene el Asteroide?\")\n",
    "if int(currentAsteroid) >= asteroidDanger:\n",
    "    print(\"Cuidado! La nave corre peligro!\")\n",
    "else:\n",
    "    print(\"Todo esta bajo control\") "
   ]
  },
  {
   "cell_type": "markdown",
   "metadata": {},
   "source": [
    "Un asteroide entra en la atmósfera de la Tierra a una velocidad mayor o igual a 20 km/s"
   ]
  },
  {
   "cell_type": "code",
   "execution_count": null,
   "metadata": {},
   "outputs": [],
   "source": [
    "asteroidVisible = 19\n",
    "if asteroidVisible > 20:\n",
    "    print(\"Hay un asteroide entrando a la tierra!\")\n",
    "elif asteroidVisible == 20:\n",
    "    print(\"Hay un asteroide entrando a la tierra!\")\n",
    "else:\n",
    "    print(\"La tierra esta segura... Por ahora...\")\n"
   ]
  },
  {
   "cell_type": "markdown",
   "metadata": {},
   "source": [
    "Advertencia a la tierra"
   ]
  },
  {
   "cell_type": "code",
   "execution_count": null,
   "metadata": {},
   "outputs": [],
   "source": [
    "asteroidVel = 25\n",
    "asteroidStandardSize = 40\n",
    "if asteroidVel > 25 and asteroidStandardSize > 25:\n",
    "    print(\"¡El asteroide ya esta entrando a la tierra! ¡Corre!\")\n",
    "elif asteroidVel >= 20:\n",
    "    print(\"El asteroide se desintegrara en la atmosfera\")\n",
    "elif asteroidStandardSize < 25:\n",
    "    print('Todo cool.')\n",
    "else:\n",
    "    print('Todo cool')"
   ]
  },
  {
   "cell_type": "markdown",
   "metadata": {},
   "source": [
    "Practica con entrada de usuario"
   ]
  },
  {
   "cell_type": "code",
   "execution_count": 49,
   "metadata": {},
   "outputs": [
    {
     "name": "stdout",
     "output_type": "stream",
     "text": [
      "El asteroide se desintegrara en la atmosfera\n"
     ]
    }
   ],
   "source": [
    "asteroidSize = 25\n",
    "asteroidSpeed = 20\n",
    "currentAsteroidSize = input(\"¿Cual es el tamaño del asteroide?\")\n",
    "currentAsteroidSpeed = input(\"¿Cual es la velocidad del asteroide?\")\n",
    "\n",
    "if int(currentAsteroidSize) >= asteroidSize and int(currentAsteroidSpeed) >= asteroidSpeed:\n",
    "    print(\"¡El asteroide ya esta entrando a la tierra! ¡Corre!\")\n",
    "elif int(currentAsteroidSize) >= asteroidSize and int(currentAsteroidSpeed) <= asteroidSpeed:\n",
    "    print(\"¡Corre! ¡El asteroide es muy grande!\")\n",
    "elif int(currentAsteroidSpeed) >= asteroidSpeed and int(currentAsteroidSize) <= asteroidSize:\n",
    "    print(\"¡El asteroide es muy veloz! ¡Corre!\")\n",
    "#esta condicional podria ejecuitarse de esta otra forma\n",
    "#int(currentAsteroidSpeed) < asteroidSpeed and int(currentAsteroidSize) < asteroidSize:\n",
    "#pero resulta mas conveniente el else para escribir menos codigo\n",
    "else:\n",
    "    print(\"El asteroide se desintegrara en la atmósfera\")"
   ]
  },
  {
   "cell_type": "code",
   "execution_count": null,
   "metadata": {},
   "outputs": [],
   "source": []
  }
 ],
 "metadata": {
  "interpreter": {
   "hash": "7d7170c4dbb452e46fba72997629030dd21412e7ef2bb37ead06b2a0389bf413"
  },
  "kernelspec": {
   "display_name": "Python 3.10.2 64-bit (windows store)",
   "language": "python",
   "name": "python3"
  },
  "language_info": {
   "codemirror_mode": {
    "name": "ipython",
    "version": 3
   },
   "file_extension": ".py",
   "mimetype": "text/x-python",
   "name": "python",
   "nbconvert_exporter": "python",
   "pygments_lexer": "ipython3",
   "version": "3.10.2"
  },
  "orig_nbformat": 4
 },
 "nbformat": 4,
 "nbformat_minor": 2
}
