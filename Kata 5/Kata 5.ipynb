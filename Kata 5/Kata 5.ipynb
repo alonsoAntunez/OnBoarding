{
 "cells": [
  {
   "cell_type": "markdown",
   "metadata": {},
   "source": [
    "# Distancia entre dos planetas"
   ]
  },
  {
   "cell_type": "code",
   "execution_count": 8,
   "metadata": {},
   "outputs": [
    {
     "name": "stdout",
     "output_type": "stream",
     "text": [
      "628949330\n",
      "390577534\n"
     ]
    }
   ],
   "source": [
    "earthDistance = 149597870\n",
    "jupiterDistance = 778547200\n",
    "\n",
    "distanceBetweenKm = earthDistance - jupiterDistance\n",
    "distanceBetweenMiles = 0.621 * (earthDistance - jupiterDistance)\n",
    "\n",
    "print(round(abs(distanceBetweenKm)))\n",
    "print(round(abs(distanceBetweenMiles)))"
   ]
  },
  {
   "cell_type": "markdown",
   "metadata": {},
   "source": [
    "#  Convertir cadenas en números y usa valores absolutos"
   ]
  },
  {
   "cell_type": "code",
   "execution_count": 13,
   "metadata": {},
   "outputs": [
    {
     "name": "stdout",
     "output_type": "stream",
     "text": [
      "628949330\n",
      "105570000\n"
     ]
    }
   ],
   "source": [
    "planet1 = input('¿Cual es la distancia del primer planeta en KM?')\n",
    "planet2 = input('¿Cual es la distancia del segundo planeta en KM?')\n",
    "\n",
    "distance1 = int(planet1)\n",
    "distance2 = int(planet2)\n",
    "\n",
    "distanceKm = distance1 - distance2\n",
    "distanceMiles = 0.621 * (distance1 - distance2)\n",
    "\n",
    "print(round(abs(distanceBetweenKm)))\n",
    "print(round(abs(distanceMiles)))"
   ]
  }
 ],
 "metadata": {
  "interpreter": {
   "hash": "7d7170c4dbb452e46fba72997629030dd21412e7ef2bb37ead06b2a0389bf413"
  },
  "kernelspec": {
   "display_name": "Python 3.10.2 64-bit (windows store)",
   "language": "python",
   "name": "python3"
  },
  "language_info": {
   "codemirror_mode": {
    "name": "ipython",
    "version": 3
   },
   "file_extension": ".py",
   "mimetype": "text/x-python",
   "name": "python",
   "nbconvert_exporter": "python",
   "pygments_lexer": "ipython3",
   "version": "3.10.2"
  },
  "orig_nbformat": 4
 },
 "nbformat": 4,
 "nbformat_minor": 2
}
