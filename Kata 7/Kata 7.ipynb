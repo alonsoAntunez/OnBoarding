{
 "cells": [
  {
   "cell_type": "markdown",
   "metadata": {},
   "source": [
    "### Uso de ciclos while en Python"
   ]
  },
  {
   "cell_type": "code",
   "execution_count": 4,
   "metadata": {},
   "outputs": [
    {
     "name": "stdout",
     "output_type": "stream",
     "text": [
      "['Mercurio', 'Venus']\n"
     ]
    }
   ],
   "source": [
    "new_planet = ''\n",
    "planets = []\n",
    "while new_planet.lower() != 'fin':\n",
    "    if new_planet:\n",
    "        planets.append(new_planet)\n",
    "    new_planet = input('Agrega los planetas del sistema solar. Escribe la palabra \"Fin\" para mostrar la lista de planetas')\n",
    "print(planets)"
   ]
  },
  {
   "cell_type": "markdown",
   "metadata": {},
   "source": [
    "### Creación de un ciclo \"for\""
   ]
  },
  {
   "cell_type": "code",
   "execution_count": 12,
   "metadata": {},
   "outputs": [
    {
     "name": "stdout",
     "output_type": "stream",
     "text": [
      "Mercurio\n",
      "Venus\n",
      "Tierra\n",
      "Marte\n",
      "Los planetas incluidos en la lista son  ['Mercurio', 'Venus', 'Tierra', 'Marte']\n"
     ]
    }
   ],
   "source": [
    "from time import sleep\n",
    "\n",
    "new_planet = ''\n",
    "planets = []\n",
    "while new_planet.lower() != 'fin':\n",
    "    if new_planet:\n",
    "        planets.append(new_planet)\n",
    "    new_planet = input('Agrega los planetas del sistema solar. Escribe la palabra \"Fin\" para mostrar la lista de planetas')\n",
    "\n",
    "for planet in planets:\n",
    "    print(planet)\n",
    "    sleep(1)\n",
    "print('Los planetas incluidos en la lista son ', planets)"
   ]
  }
 ],
 "metadata": {
  "interpreter": {
   "hash": "7d7170c4dbb452e46fba72997629030dd21412e7ef2bb37ead06b2a0389bf413"
  },
  "kernelspec": {
   "display_name": "Python 3.10.2 64-bit (windows store)",
   "language": "python",
   "name": "python3"
  },
  "language_info": {
   "codemirror_mode": {
    "name": "ipython",
    "version": 3
   },
   "file_extension": ".py",
   "mimetype": "text/x-python",
   "name": "python",
   "nbconvert_exporter": "python",
   "pygments_lexer": "ipython3",
   "version": "3.10.2"
  },
  "orig_nbformat": 4
 },
 "nbformat": 4,
 "nbformat_minor": 2
}
