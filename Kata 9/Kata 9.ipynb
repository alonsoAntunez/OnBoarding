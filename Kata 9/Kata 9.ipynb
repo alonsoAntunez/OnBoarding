{
 "cells": [
  {
   "cell_type": "markdown",
   "metadata": {},
   "source": [
    "# Trabajar con argumentos en funciones"
   ]
  },
  {
   "cell_type": "code",
   "execution_count": 11,
   "metadata": {},
   "outputs": [
    {
     "name": "stdout",
     "output_type": "stream",
     "text": [
      "Fuel Report:\n",
      "    Total Average = 39.0.\n",
      "    Main Tank = 25.\n",
      "    External Tank = 32.\n",
      "    Hydrogen Tank 60.\n"
     ]
    },
    {
     "data": {
      "text/plain": [
       "68.0"
      ]
     },
     "execution_count": 11,
     "metadata": {},
     "output_type": "execute_result"
    }
   ],
   "source": [
    "def fuel_amounts(main_tank, external_tank, hydrogen_tank):\n",
    "    total_average = (main_tank + external_tank + hydrogen_tank ) / 3\n",
    "    return f\"\"\"Fuel Report:\n",
    "    Total Average = {total_average}.\n",
    "    Main Tank = {main_tank}.\n",
    "    External Tank = {external_tank}.\n",
    "    Hydrogen Tank {hydrogen_tank}.\"\"\"\n",
    "\n",
    "print(fuel_amounts(25, 32, 60))\n",
    "\n",
    "def average(values):\n",
    "    total = sum(values)\n",
    "    number_of_Tanks = len(values)\n",
    "    return total / number_of_Tanks\n",
    "\n",
    "average([25, 81, 98])\n"
   ]
  },
  {
   "cell_type": "code",
   "execution_count": 16,
   "metadata": {},
   "outputs": [
    {
     "name": "stdout",
     "output_type": "stream",
     "text": [
      "Fuel Report:\n",
      "    Total Average = 78.0%\n",
      "    Main Tank = 88.\n",
      "    External Tank = 76.\n",
      "    Hydrogen Tank 70.\n",
      "    \n"
     ]
    }
   ],
   "source": [
    "def fuel_amounts(main_tank, external_tank, hydrogen_tank):\n",
    "    return f\"\"\"Fuel Report:\n",
    "    Total Average = {average([main_tank, external_tank, hydrogen_tank])}%\n",
    "    Main Tank = {main_tank}.\n",
    "    External Tank = {external_tank}.\n",
    "    Hydrogen Tank {hydrogen_tank}.\n",
    "    \"\"\"\n",
    "\n",
    "print(fuel_amounts(88, 76, 70))"
   ]
  },
  {
   "cell_type": "markdown",
   "metadata": {},
   "source": [
    "# Trabajar con argumentos de palabras clave en funciones"
   ]
  },
  {
   "cell_type": "code",
   "execution_count": 17,
   "metadata": {},
   "outputs": [
    {
     "name": "stdout",
     "output_type": "stream",
     "text": [
      "\n",
      "    Destination: Moon\n",
      "    Total Flight time: 57\n",
      "    Total fuel: 150\n",
      "    \n"
     ]
    }
   ],
   "source": [
    "def mission_debrief(pre_launchtime,flight_time, destination, ext_tank, int_tank):\n",
    "    return f\"\"\"\n",
    "    Destination: {destination}\n",
    "    Total Flight time: {pre_launchtime + flight_time}\n",
    "    Total fuel: {ext_tank + int_tank}\n",
    "    \"\"\"\n",
    "\n",
    "print(mission_debrief(25, 32, 'Moon', 65, 85))"
   ]
  },
  {
   "cell_type": "code",
   "execution_count": 19,
   "metadata": {},
   "outputs": [
    {
     "name": "stdout",
     "output_type": "stream",
     "text": [
      "\n",
      "    Destination: Moon\n",
      "    Total Flight time: 206 minutes\n",
      "    Total fuel: 99\n",
      "    \n"
     ]
    }
   ],
   "source": [
    "def mission_debrief(destination, *minutes, **fuel_reservoirs):\n",
    "    return f\"\"\"\n",
    "    Destination: {destination}\n",
    "    Total Flight time: {sum(minutes)} minutes\n",
    "    Total fuel: {sum(fuel_reservoirs.values())}\n",
    "    \"\"\"\n",
    "print(mission_debrief('Moon', 26, 82, 98, main=42, external= 57))"
   ]
  },
  {
   "cell_type": "code",
   "execution_count": 24,
   "metadata": {},
   "outputs": [
    {
     "name": "stdout",
     "output_type": "stream",
     "text": [
      "\n",
      "    Destination: Moon\n",
      "    Total Flight time: 206 minutes\n",
      "    Total fuel: 99\n",
      "\n",
      "    main tank --> 42 gallons left\n",
      "external tank --> 57 gallons left\n",
      "\n"
     ]
    }
   ],
   "source": [
    "def mission_debrief(destination, *minutes, **fuel_reservoirs):\n",
    "    fuel_debrief = f\"\"\"\n",
    "    Destination: {destination}\n",
    "    Total Flight time: {sum(minutes)} minutes\n",
    "    Total fuel: {sum(fuel_reservoirs.values())}\\n\n",
    "    \"\"\"\n",
    "    for tank_name, gallons in fuel_reservoirs.items():\n",
    "        fuel_debrief += f\"{tank_name} tank --> {gallons} gallons left\\n\"\n",
    "    return fuel_debrief\n",
    "\n",
    "print(mission_debrief('Moon', 26, 82, 98, main=42, external= 57))"
   ]
  }
 ],
 "metadata": {
  "interpreter": {
   "hash": "7d7170c4dbb452e46fba72997629030dd21412e7ef2bb37ead06b2a0389bf413"
  },
  "kernelspec": {
   "display_name": "Python 3.10.2 64-bit (windows store)",
   "language": "python",
   "name": "python3"
  },
  "language_info": {
   "codemirror_mode": {
    "name": "ipython",
    "version": 3
   },
   "file_extension": ".py",
   "mimetype": "text/x-python",
   "name": "python",
   "nbconvert_exporter": "python",
   "pygments_lexer": "ipython3",
   "version": "3.10.2"
  },
  "orig_nbformat": 4
 },
 "nbformat": 4,
 "nbformat_minor": 2
}
